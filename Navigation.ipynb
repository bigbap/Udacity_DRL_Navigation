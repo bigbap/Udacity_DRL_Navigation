{
 "cells": [
  {
   "cell_type": "markdown",
   "metadata": {},
   "source": [
    "## Import dependencies\n",
    "\n",
    "First, we need to import the agent and the environment.\n",
    "\n",
    "Along with the agent and the environment, we also need to import torch and matplotlib. `%matplotlib inline` allows us to show the plots in Jupyter."
   ]
  },
  {
   "cell_type": "code",
   "execution_count": 1,
   "metadata": {},
   "outputs": [],
   "source": [
    "import torch\n",
    "from IPython.display import clear_output\n",
    "from collections import deque\n",
    "from src.agent import Agent, DQN_algo, DoubleDQN_algo\n",
    "from src import environment as env\n",
    "import matplotlib.pyplot as plt\n",
    "import warnings\n",
    "warnings.filterwarnings(\"error\")\n",
    "\n",
    "%matplotlib inline"
   ]
  },
  {
   "cell_type": "markdown",
   "metadata": {},
   "source": [
    "## Train function\n",
    "\n",
    "We define a helper function to make it easy to run multiple training episodes."
   ]
  },
  {
   "cell_type": "code",
   "execution_count": 2,
   "metadata": {},
   "outputs": [],
   "source": [
    "def train(env_train, agent, episodes, label=None):\n",
    "    scores = deque([0] * 100, maxlen=100)\n",
    "    steps = []\n",
    "    avg_scores = []\n",
    "    for i in range(1, episodes + 1):\n",
    "        score = env.episode(env_train, agent, train_mode=True)\n",
    "\n",
    "        scores.append(score)\n",
    "\n",
    "        avg = sum(scores)/len(scores)\n",
    "        torch.save(agent.dqn_local.state_dict(), 'model.pth')\n",
    "\n",
    "        steps.append(i)\n",
    "        avg_scores.append(avg)\n",
    "\n",
    "        clear_output(wait=True)\n",
    "        print(\"{}episodes: {}/{}, average score: {}\".format(\"{} - \".format(label if label != None else \"\"), i, episodes, avg))\n",
    "\n",
    "        # if avg >= 13:\n",
    "        #     break\n",
    "    \n",
    "    return steps, avg_scores"
   ]
  },
  {
   "cell_type": "markdown",
   "metadata": {},
   "source": [
    "## Start the environment\n",
    "\n",
    "The next block will initialize a default environment. The default environment is optimized for training."
   ]
  },
  {
   "cell_type": "code",
   "execution_count": 3,
   "metadata": {},
   "outputs": [
    {
     "name": "stderr",
     "output_type": "stream",
     "text": [
      "INFO:unityagents:\n",
      "'Academy' started successfully!\n",
      "Unity Academy name: Academy\n",
      "        Number of Brains: 1\n",
      "        Number of External Brains : 1\n",
      "        Lesson number : 0\n",
      "        Reset Parameters :\n",
      "\t\t\n",
      "Unity brain name: BananaBrain\n",
      "        Number of Visual Observations (per agent): 0\n",
      "        Vector Observation space type: continuous\n",
      "        Vector Observation space size (per agent): 37\n",
      "        Number of stacked Vector Observation: 1\n",
      "        Vector Action space type: discrete\n",
      "        Vector Action space size (per agent): 4\n",
      "        Vector Action descriptions: , , , \n"
     ]
    }
   ],
   "source": [
    "env_train = env.Environment()"
   ]
  },
  {
   "cell_type": "markdown",
   "metadata": {},
   "source": [
    "## Create agent and train\n",
    "\n",
    "Now we can run this next block as many times as we like until we get the desired results.\n",
    "\n",
    "We can tweak the hyperparameters when we intialize the agent. The hypermarameters are:\n",
    "- `gamma`. This is the discount factor\n",
    "- `lr`. Learning rate\n",
    "- `ep_decay`, `ep_start`, `ep_min`. Epsillon related parameters\n",
    "    - *Formula for decay is `max(ep_start * (ep_decay ** t_step), ep_min)`*\n",
    "- `buffer_size`. Replay buffer size\n",
    "- `batch_size`. Mini batch size\n",
    "- `learn_every`. Number of experience steps to take before taking a learn step"
   ]
  },
  {
   "cell_type": "code",
   "execution_count": 4,
   "metadata": {},
   "outputs": [
    {
     "name": "stdout",
     "output_type": "stream",
     "text": [
      "Double DQN/PER - episodes: 50/50, average score: 0.61\n"
     ]
    },
    {
     "data": {
      "image/png": "[encoded data removed]",
      "text/plain": [
       "<Figure size 432x288 with 1 Axes>"
      ]
     },
     "metadata": {
      "needs_background": "light"
     },
     "output_type": "display_data"
    }
   ],
   "source": [
    "# agent = Agent(env_train.state_size, env_train.action_size, gamma=1, seed=0, lr=0.001, targets_algo=DQN_algo)\n",
    "# steps, score = train(env_train, agent, 50, label=\"DQN\")\n",
    "# plt.plot(steps, score, label=\"DQN\")\n",
    "\n",
    "# agent = Agent(env_train.state_size, env_train.action_size, gamma=1, seed=0, lr=0.001, priority_alpha=0.5, targets_algo=DQN_algo)\n",
    "# steps, score = train(env_train, agent, 50, label=\"DQN/PER\")\n",
    "# plt.plot(steps, score, label=\"DQN/PER\")\n",
    "\n",
    "# agent = Agent(env_train.state_size, env_train.action_size, gamma=1, seed=0, lr=0.001, targets_algo=DoubleDQN_algo)\n",
    "# steps, score = train(env_train, agent, 50, label=\"Double DQN\")\n",
    "# plt.plot(steps, score, label=\"Double DQN\")\n",
    "\n",
    "agent = Agent(env_train.state_size, env_train.action_size, gamma=1, seed=0, lr=0.001, priority_alpha=0.5, targets_algo=DoubleDQN_algo)\n",
    "steps, score = train(env_train, agent, 50, label=\"Double DQN/PER\")\n",
    "plt.plot(steps, score, label=\"Double DQN/PER\")\n",
    "\n",
    "plt.legend()\n",
    "plt.xlabel(\"episodes\")\n",
    "plt.ylabel(\"avg score (over 100 episodes)\")\n",
    "plt.show()"
   ]
  },
  {
   "cell_type": "markdown",
   "metadata": {},
   "source": [
    "## Close the environment\n",
    "\n",
    "After we are done with training, we need to close the environment."
   ]
  },
  {
   "cell_type": "code",
   "execution_count": 5,
   "metadata": {},
   "outputs": [],
   "source": [
    "env_train.close()"
   ]
  }
 ],
 "metadata": {
  "interpreter": {
   "hash": "3b36e5cf5d9baa4756675d3f1b0fd1d5742d2d2f089aec24cfcb88f7fb58e44d"
  },
  "kernelspec": {
   "display_name": "Python 3.6.13 64-bit ('drlnd': conda)",
   "name": "python3"
  },
  "language_info": {
   "codemirror_mode": {
    "name": "ipython",
    "version": 3
   },
   "file_extension": ".py",
   "mimetype": "text/x-python",
   "name": "python",
   "nbconvert_exporter": "python",
   "pygments_lexer": "ipython3",
   "version": "3.6.13"
  }
 },
 "nbformat": 4,
 "nbformat_minor": 2
}
