{
 "cells": [
  {
   "cell_type": "markdown",
   "id": "ea99a7d4",
   "metadata": {},
   "source": [
    "## Learning Algorithm\n",
    "\n",
    "Algorithm used was double DQN.\n",
    "\n",
    "## Plot of Rewards\n",
    "\n",
    "## Ideas for the Future\n",
    "\n",
    "- implement prioritised replay buffer\n",
    "- implement dueling DQN\n",
    "- implement CNN model for training on raw pixel data"
   ]
  },
  {
   "cell_type": "code",
   "execution_count": null,
   "id": "3e07bec2",
   "metadata": {},
   "outputs": [],
   "source": []
  }
 ],
 "metadata": {
  "kernelspec": {
   "display_name": "Python 3 (ipykernel)",
   "language": "python",
   "name": "python3"
  },
  "language_info": {
   "codemirror_mode": {
    "name": "ipython",
    "version": 3
   },
   "file_extension": ".py",
   "mimetype": "text/x-python",
   "name": "python",
   "nbconvert_exporter": "python",
   "pygments_lexer": "ipython3",
   "version": "3.9.5"
  }
 },
 "nbformat": 4,
 "nbformat_minor": 5
}
